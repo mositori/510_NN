{
 "cells": [
  {
   "cell_type": "code",
   "execution_count": 1,
   "metadata": {},
   "outputs": [
    {
     "name": "stderr",
     "output_type": "stream",
     "text": [
      "Using TensorFlow backend.\n"
     ]
    }
   ],
   "source": [
    "import numpy as np\n",
    "import pandas as pd\n",
    "import matplotlib.pyplot as plt\n",
    "import tensorflow as tf\n",
    "\n",
    "from tensorflow import keras\n",
    "from keras.models import Sequential\n",
    "from keras.layers import Dense, Activation, Dropout\n",
    "%matplotlib inline"
   ]
  },
  {
   "cell_type": "code",
   "execution_count": 2,
   "metadata": {},
   "outputs": [],
   "source": [
    "df = pd.read_excel(\"dataset1.xlsx\")"
   ]
  },
  {
   "cell_type": "code",
   "execution_count": 3,
   "metadata": {},
   "outputs": [
    {
     "data": {
      "text/plain": [
       "年月                      201611\n",
       "年月日                   20161130\n",
       "曜日                           水\n",
       "開催場                    23# 唐　津\n",
       "日程                        第　４日\n",
       "最終Ｒ                        優勝戦\n",
       "時間帯                         デイ\n",
       "グレード                        一般\n",
       "レース                      5 ﾚｰｽ\n",
       "シリーズ                        一般\n",
       "ランク                       A3B3\n",
       "レース種別                  [一般・予選]\n",
       "天気                           晴\n",
       "風速                           2\n",
       "波                            2\n",
       "枠                            5\n",
       "進入                           4\n",
       "ST                        0.14\n",
       "ST順位                         3\n",
       "ST１位との差                   0.08\n",
       "着順                           1\n",
       "結果         2005-03-06 00:00:00\n",
       "決まり手                       まくり\n",
       "Name: 1, dtype: object"
      ]
     },
     "execution_count": 3,
     "metadata": {},
     "output_type": "execute_result"
    }
   ],
   "source": [
    "df.iloc[1,:]"
   ]
  },
  {
   "cell_type": "code",
   "execution_count": 4,
   "metadata": {},
   "outputs": [],
   "source": [
    "weather_replacement = {\"晴\" : 2, \"雲\" : 1, \"雨\" : 0}\n",
    "df = df.replace(weather_replacement)"
   ]
  },
  {
   "cell_type": "markdown",
   "metadata": {},
   "source": [
    "## 訓練データ前処理\n",
    "データ構造 : `[雨, 曇り, 晴れ, 風速, 波]`\n",
    "\n",
    "Example:\n",
    "曇りで風速8, 波3のときは`[0, 1, 0, 8, 3]`という内容になる"
   ]
  },
  {
   "cell_type": "code",
   "execution_count": 5,
   "metadata": {},
   "outputs": [],
   "source": [
    "x_train = np.array(df.loc[:, \"天気\":\"波\"], dtype = \"int8\")\n",
    "x_train_temp = np.empty((x_train.shape[0], 5), dtype=\"int8\")\n",
    "\n",
    "for i in range( x_train.shape[0] ):\n",
    "    index = x_train[ i , 0 ]\n",
    "    temp_array = np.zeros(3)\n",
    "    temp_array[ index - 1] = 1\n",
    "    x_train_temp[i] = np.concatenate([temp_array, x_train[i, 1: ]])\n",
    "x_train = x_train_temp"
   ]
  },
  {
   "cell_type": "markdown",
   "metadata": {},
   "source": [
    "## 教師データ前処理\n",
    "データ構造: `[一位, 二位, ..., 六位]`\n",
    "\n",
    "Example: 4位だった時, `[0, 0, 0, 1, 0, 0]`となる."
   ]
  },
  {
   "cell_type": "code",
   "execution_count": 6,
   "metadata": {},
   "outputs": [],
   "source": [
    "y_train = np.array( df.loc[:, \"着順\"])\n",
    "y_train_temp = np.empty((y_train.shape[0], y_train.max()))\n",
    "for i in range(y_train.shape[0]):\n",
    "    index = y_train[i]\n",
    "    temp_array = np.zeros(y_train.max())\n",
    "    temp_array[ index - 1] = 1\n",
    "    y_train_temp[i] = temp_array\n",
    "y_train = y_train_temp"
   ]
  },
  {
   "cell_type": "markdown",
   "metadata": {},
   "source": [
    "## NN初期化\n",
    "- 最適化: RMSProp\n",
    "- 誤差関数: 多クラス交差エントロピー関数\n",
    "- 繰り返し回数: 100\n",
    "- バッチサイズ: 24"
   ]
  },
  {
   "cell_type": "code",
   "execution_count": 7,
   "metadata": {},
   "outputs": [],
   "source": [
    "optimizer = \"rmsprop\"\n",
    "loss = keras.losses.categorical_crossentropy\n",
    "epochs = 500\n",
    "batch_size = 24\n",
    "\n",
    "model = Sequential()\n",
    "model.add( Dense(12, activation = 'relu', input_dim = 5) )\n",
    "model.add( Dense(6, activation = 'softmax') )\n",
    "model.compile(optimizer = optimizer,loss = loss, metrics = ['accuracy'])"
   ]
  },
  {
   "cell_type": "markdown",
   "metadata": {},
   "source": [
    "## 構成"
   ]
  },
  {
   "cell_type": "code",
   "execution_count": 8,
   "metadata": {},
   "outputs": [
    {
     "name": "stdout",
     "output_type": "stream",
     "text": [
      "_________________________________________________________________\n",
      "Layer (type)                 Output Shape              Param #   \n",
      "=================================================================\n",
      "dense_1 (Dense)              (None, 12)                72        \n",
      "_________________________________________________________________\n",
      "dense_2 (Dense)              (None, 6)                 78        \n",
      "=================================================================\n",
      "Total params: 150\n",
      "Trainable params: 150\n",
      "Non-trainable params: 0\n",
      "_________________________________________________________________\n"
     ]
    }
   ],
   "source": [
    "model.summary()"
   ]
  },
  {
   "cell_type": "markdown",
   "metadata": {},
   "source": [
    "## 学習"
   ]
  },
  {
   "cell_type": "code",
   "execution_count": 12,
   "metadata": {},
   "outputs": [
    {
     "name": "stdout",
     "output_type": "stream",
     "text": [
      "Train on 573 samples, validate on 573 samples\n",
      "Epoch 1/10\n",
      "573/573 [==============================] - 0s 106us/step - loss: 1.6852 - acc: 0.2775 - val_loss: 1.6812 - val_acc: 0.2845\n",
      "Epoch 2/10\n",
      "573/573 [==============================] - 0s 111us/step - loss: 1.6848 - acc: 0.2810 - val_loss: 1.6811 - val_acc: 0.2967\n",
      "Epoch 3/10\n",
      "573/573 [==============================] - 0s 101us/step - loss: 1.6846 - acc: 0.2967 - val_loss: 1.6812 - val_acc: 0.2967\n",
      "Epoch 4/10\n",
      "573/573 [==============================] - 0s 104us/step - loss: 1.6851 - acc: 0.2845 - val_loss: 1.6811 - val_acc: 0.2967\n",
      "Epoch 5/10\n",
      "573/573 [==============================] - 0s 121us/step - loss: 1.6847 - acc: 0.2949 - val_loss: 1.6811 - val_acc: 0.2845\n",
      "Epoch 6/10\n",
      "573/573 [==============================] - 0s 93us/step - loss: 1.6846 - acc: 0.2845 - val_loss: 1.6813 - val_acc: 0.2897\n",
      "Epoch 7/10\n",
      "573/573 [==============================] - 0s 92us/step - loss: 1.6851 - acc: 0.2792 - val_loss: 1.6810 - val_acc: 0.2967\n",
      "Epoch 8/10\n",
      "573/573 [==============================] - 0s 106us/step - loss: 1.6842 - acc: 0.2880 - val_loss: 1.6811 - val_acc: 0.2862\n",
      "Epoch 9/10\n",
      "573/573 [==============================] - 0s 99us/step - loss: 1.6841 - acc: 0.2949 - val_loss: 1.6811 - val_acc: 0.2949\n",
      "Epoch 10/10\n",
      "573/573 [==============================] - 0s 108us/step - loss: 1.6851 - acc: 0.2845 - val_loss: 1.6810 - val_acc: 0.2967\n"
     ]
    },
    {
     "data": {
      "text/plain": [
       "<keras.callbacks.History at 0xb3cabd128>"
      ]
     },
     "execution_count": 12,
     "metadata": {},
     "output_type": "execute_result"
    }
   ],
   "source": [
    "model.fit(x_train, y_train,\n",
    "          epochs = epochs,\n",
    "          batch_size = batch_size,\n",
    "          validation_data = (x_train, y_train)\n",
    ")"
   ]
  },
  {
   "cell_type": "markdown",
   "metadata": {},
   "source": [
    "## 予測\n",
    "`is_rain`, `is_cloudy`, `is_sunny`, `wind_speed`, `wave_height`の数値を学習済みNNに代入する\n",
    "\n",
    "出力される数値は左から1位~6位になる確率を返していると見なせる."
   ]
  },
  {
   "cell_type": "code",
   "execution_count": 16,
   "metadata": {},
   "outputs": [
    {
     "name": "stdout",
     "output_type": "stream",
     "text": [
      "[[0.30590424 0.15145667 0.20027286 0.10149229 0.14398012 0.09689386]]\n"
     ]
    },
    {
     "data": {
      "text/plain": [
       "<matplotlib.colorbar.Colorbar at 0xb400f7e10>"
      ]
     },
     "execution_count": 16,
     "metadata": {},
     "output_type": "execute_result"
    },
    {
     "data": {
      "image/png": "[encoded data removed]",
      "text/plain": [
       "<Figure size 432x288 with 2 Axes>"
      ]
     },
     "metadata": {
      "needs_background": "light"
     },
     "output_type": "display_data"
    }
   ],
   "source": [
    "# Input params\n",
    "is_rain = 0\n",
    "is_cloudy = 0\n",
    "is_sunny = 1\n",
    "wind_speed = 3\n",
    "wave_height = 5\n",
    "\n",
    "# prediction\n",
    "input_data = np.array([[is_rain, is_cloudy, is_sunny, wind_speed, wave_height]])\n",
    "predict_data = model.predict(input_data)\n",
    "print(predict_data)\n",
    "\n",
    "# image\n",
    "plt.imshow(predict_data, cmap = plt.cm.binary)\n",
    "plt.colorbar()"
   ]
  }
 ],
 "metadata": {
  "kernelspec": {
   "display_name": "Python 3",
   "language": "python",
   "name": "python3"
  },
  "language_info": {
   "codemirror_mode": {
    "name": "ipython",
    "version": 3
   },
   "file_extension": ".py",
   "mimetype": "text/x-python",
   "name": "python",
   "nbconvert_exporter": "python",
   "pygments_lexer": "ipython3",
   "version": "3.6.6"
  }
 },
 "nbformat": 4,
 "nbformat_minor": 2
}
