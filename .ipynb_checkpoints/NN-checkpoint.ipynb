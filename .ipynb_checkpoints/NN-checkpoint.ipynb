{
 "cells": [
  {
   "cell_type": "code",
   "execution_count": 1,
   "metadata": {},
   "outputs": [
    {
     "name": "stderr",
     "output_type": "stream",
     "text": [
      "Using TensorFlow backend.\n"
     ]
    }
   ],
   "source": [
    "import numpy as np\n",
    "import pandas as pd\n",
    "import matplotlib.pyplot as plt\n",
    "import tensorflow as tf\n",
    "\n",
    "from tensorflow import keras\n",
    "from keras.models import Sequential\n",
    "from keras.layers import Dense, Activation, Dropout\n",
    "%matplotlib inline"
   ]
  },
  {
   "cell_type": "code",
   "execution_count": 2,
   "metadata": {},
   "outputs": [],
   "source": [
    "df = pd.read_excel(\"dataset1.xlsx\")"
   ]
  },
  {
   "cell_type": "code",
   "execution_count": 3,
   "metadata": {},
   "outputs": [
    {
     "data": {
      "text/html": [
       "<div>\n",
       "<style scoped>\n",
       "    .dataframe tbody tr th:only-of-type {\n",
       "        vertical-align: middle;\n",
       "    }\n",
       "\n",
       "    .dataframe tbody tr th {\n",
       "        vertical-align: top;\n",
       "    }\n",
       "\n",
       "    .dataframe thead th {\n",
       "        text-align: right;\n",
       "    }\n",
       "</style>\n",
       "<table border=\"1\" class=\"dataframe\">\n",
       "  <thead>\n",
       "    <tr style=\"text-align: right;\">\n",
       "      <th></th>\n",
       "      <th>年月</th>\n",
       "      <th>年月日</th>\n",
       "      <th>曜日</th>\n",
       "      <th>開催場</th>\n",
       "      <th>日程</th>\n",
       "      <th>最終Ｒ</th>\n",
       "      <th>時間帯</th>\n",
       "      <th>グレード</th>\n",
       "      <th>レース</th>\n",
       "      <th>シリーズ</th>\n",
       "      <th>...</th>\n",
       "      <th>風速</th>\n",
       "      <th>波</th>\n",
       "      <th>枠</th>\n",
       "      <th>進入</th>\n",
       "      <th>ST</th>\n",
       "      <th>ST順位</th>\n",
       "      <th>ST１位との差</th>\n",
       "      <th>着順</th>\n",
       "      <th>結果</th>\n",
       "      <th>決まり手</th>\n",
       "    </tr>\n",
       "  </thead>\n",
       "  <tbody>\n",
       "    <tr>\n",
       "      <th>0</th>\n",
       "      <td>201611</td>\n",
       "      <td>20161130</td>\n",
       "      <td>水</td>\n",
       "      <td>23# 唐　津</td>\n",
       "      <td>第　４日</td>\n",
       "      <td>優勝戦</td>\n",
       "      <td>デイ</td>\n",
       "      <td>一般</td>\n",
       "      <td>10 ﾚｰｽ</td>\n",
       "      <td>一般</td>\n",
       "      <td>...</td>\n",
       "      <td>3</td>\n",
       "      <td>3</td>\n",
       "      <td>2</td>\n",
       "      <td>1</td>\n",
       "      <td>0.26</td>\n",
       "      <td>2</td>\n",
       "      <td>0.02</td>\n",
       "      <td>1</td>\n",
       "      <td>2002-01-03</td>\n",
       "      <td>逃げ</td>\n",
       "    </tr>\n",
       "    <tr>\n",
       "      <th>1</th>\n",
       "      <td>201611</td>\n",
       "      <td>20161130</td>\n",
       "      <td>水</td>\n",
       "      <td>23# 唐　津</td>\n",
       "      <td>第　４日</td>\n",
       "      <td>優勝戦</td>\n",
       "      <td>デイ</td>\n",
       "      <td>一般</td>\n",
       "      <td>5 ﾚｰｽ</td>\n",
       "      <td>一般</td>\n",
       "      <td>...</td>\n",
       "      <td>2</td>\n",
       "      <td>2</td>\n",
       "      <td>5</td>\n",
       "      <td>4</td>\n",
       "      <td>0.14</td>\n",
       "      <td>3</td>\n",
       "      <td>0.08</td>\n",
       "      <td>1</td>\n",
       "      <td>2005-03-06</td>\n",
       "      <td>まくり</td>\n",
       "    </tr>\n",
       "    <tr>\n",
       "      <th>2</th>\n",
       "      <td>201611</td>\n",
       "      <td>20161129</td>\n",
       "      <td>火</td>\n",
       "      <td>23# 唐　津</td>\n",
       "      <td>第　３日</td>\n",
       "      <td>準優勝戦</td>\n",
       "      <td>デイ</td>\n",
       "      <td>一般</td>\n",
       "      <td>10 ﾚｰｽ</td>\n",
       "      <td>一般</td>\n",
       "      <td>...</td>\n",
       "      <td>6</td>\n",
       "      <td>5</td>\n",
       "      <td>1</td>\n",
       "      <td>1</td>\n",
       "      <td>0.22</td>\n",
       "      <td>6</td>\n",
       "      <td>0.11</td>\n",
       "      <td>4</td>\n",
       "      <td>2004-02-06</td>\n",
       "      <td>差し</td>\n",
       "    </tr>\n",
       "    <tr>\n",
       "      <th>3</th>\n",
       "      <td>201611</td>\n",
       "      <td>20161129</td>\n",
       "      <td>火</td>\n",
       "      <td>23# 唐　津</td>\n",
       "      <td>第　３日</td>\n",
       "      <td>準優勝戦</td>\n",
       "      <td>デイ</td>\n",
       "      <td>一般</td>\n",
       "      <td>4 ﾚｰｽ</td>\n",
       "      <td>一般</td>\n",
       "      <td>...</td>\n",
       "      <td>0</td>\n",
       "      <td>0</td>\n",
       "      <td>3</td>\n",
       "      <td>3</td>\n",
       "      <td>0.06</td>\n",
       "      <td>3</td>\n",
       "      <td>0.04</td>\n",
       "      <td>1</td>\n",
       "      <td>2003-04-05</td>\n",
       "      <td>恵まれ</td>\n",
       "    </tr>\n",
       "    <tr>\n",
       "      <th>4</th>\n",
       "      <td>201611</td>\n",
       "      <td>20161128</td>\n",
       "      <td>月</td>\n",
       "      <td>23# 唐　津</td>\n",
       "      <td>第　２日</td>\n",
       "      <td>予選・他</td>\n",
       "      <td>デイ</td>\n",
       "      <td>一般</td>\n",
       "      <td>10 ﾚｰｽ</td>\n",
       "      <td>一般</td>\n",
       "      <td>...</td>\n",
       "      <td>2</td>\n",
       "      <td>2</td>\n",
       "      <td>6</td>\n",
       "      <td>4</td>\n",
       "      <td>0.18</td>\n",
       "      <td>4</td>\n",
       "      <td>0.05</td>\n",
       "      <td>3</td>\n",
       "      <td>2001-02-06</td>\n",
       "      <td>逃げ</td>\n",
       "    </tr>\n",
       "  </tbody>\n",
       "</table>\n",
       "<p>5 rows × 23 columns</p>\n",
       "</div>"
      ],
      "text/plain": [
       "       年月       年月日 曜日      開催場    日程   最終Ｒ 時間帯 グレード     レース シリーズ  ...  風速  波  \\\n",
       "0  201611  20161130  水  23# 唐　津  第　４日   優勝戦  デイ   一般  10 ﾚｰｽ   一般  ...   3  3   \n",
       "1  201611  20161130  水  23# 唐　津  第　４日   優勝戦  デイ   一般   5 ﾚｰｽ   一般  ...   2  2   \n",
       "2  201611  20161129  火  23# 唐　津  第　３日  準優勝戦  デイ   一般  10 ﾚｰｽ   一般  ...   6  5   \n",
       "3  201611  20161129  火  23# 唐　津  第　３日  準優勝戦  デイ   一般   4 ﾚｰｽ   一般  ...   0  0   \n",
       "4  201611  20161128  月  23# 唐　津  第　２日  予選・他  デイ   一般  10 ﾚｰｽ   一般  ...   2  2   \n",
       "\n",
       "   枠  進入    ST  ST順位  ST１位との差  着順         結果  決まり手  \n",
       "0  2   1  0.26     2     0.02   1 2002-01-03    逃げ  \n",
       "1  5   4  0.14     3     0.08   1 2005-03-06   まくり  \n",
       "2  1   1  0.22     6     0.11   4 2004-02-06    差し  \n",
       "3  3   3  0.06     3     0.04   1 2003-04-05   恵まれ  \n",
       "4  6   4  0.18     4     0.05   3 2001-02-06    逃げ  \n",
       "\n",
       "[5 rows x 23 columns]"
      ]
     },
     "execution_count": 3,
     "metadata": {},
     "output_type": "execute_result"
    }
   ],
   "source": [
    "df.head()"
   ]
  },
  {
   "cell_type": "code",
   "execution_count": 4,
   "metadata": {},
   "outputs": [],
   "source": [
    "weather_replacement = {\"晴\" : 2, \"雲\" : 1, \"雨\" : 0}"
   ]
  },
  {
   "cell_type": "code",
   "execution_count": 5,
   "metadata": {},
   "outputs": [],
   "source": [
    "df = df.replace(weather_replacement)"
   ]
  },
  {
   "cell_type": "code",
   "execution_count": 6,
   "metadata": {},
   "outputs": [],
   "source": [
    "x_train = np.array(df.loc[:, \"天気\":\"波\"], dtype = \"float64\")\n"
   ]
  },
  {
   "cell_type": "code",
   "execution_count": 7,
   "metadata": {},
   "outputs": [],
   "source": [
    "y_train = np.array( df.loc[:, \"着順\"])\n",
    "y_train_temp = np.empty((y_train.shape[0], y_train.max()))\n",
    "for i in range(y_train.shape[0]):\n",
    "    index = y_train[i]\n",
    "    temp_array = np.zeros(y_train.max())\n",
    "    temp_array[ index - 1] = 1\n",
    "    y_train_temp[i] = temp_array\n",
    "y_train = y_train_temp"
   ]
  },
  {
   "cell_type": "code",
   "execution_count": 8,
   "metadata": {},
   "outputs": [],
   "source": [
    "optimizer = 'rmsprop'\n",
    "loss = keras.losses.categorical_crossentropy\n",
    "epochs = 50\n",
    "batch_size = 24\n",
    "\n",
    "model = Sequential()\n",
    "model.add( Dense(12, activation = 'relu', input_dim = 3) )\n",
    "model.add( Dense(6, activation = 'softmax') )\n",
    "model.compile(optimizer = optimizer,loss = loss, metrics = ['accuracy'])"
   ]
  },
  {
   "cell_type": "code",
   "execution_count": 9,
   "metadata": {},
   "outputs": [
    {
     "name": "stdout",
     "output_type": "stream",
     "text": [
      "_________________________________________________________________\n",
      "Layer (type)                 Output Shape              Param #   \n",
      "=================================================================\n",
      "dense_1 (Dense)              (None, 12)                48        \n",
      "_________________________________________________________________\n",
      "dense_2 (Dense)              (None, 6)                 78        \n",
      "=================================================================\n",
      "Total params: 126\n",
      "Trainable params: 126\n",
      "Non-trainable params: 0\n",
      "_________________________________________________________________\n"
     ]
    }
   ],
   "source": [
    "model.summary()"
   ]
  },
  {
   "cell_type": "markdown",
   "metadata": {},
   "source": [
    "## 学習"
   ]
  },
  {
   "cell_type": "code",
   "execution_count": 12,
   "metadata": {},
   "outputs": [
    {
     "name": "stdout",
     "output_type": "stream",
     "text": [
      "Train on 573 samples, validate on 573 samples\n",
      "Epoch 1/50\n",
      "573/573 [==============================] - 0s 98us/step - loss: 1.7514 - acc: 0.2548 - val_loss: 1.7471 - val_acc: 0.2513\n",
      "Epoch 2/50\n",
      "573/573 [==============================] - 0s 149us/step - loss: 1.7516 - acc: 0.2478 - val_loss: 1.7466 - val_acc: 0.2513\n",
      "Epoch 3/50\n",
      "573/573 [==============================] - 0s 87us/step - loss: 1.7513 - acc: 0.2443 - val_loss: 1.7462 - val_acc: 0.2496\n",
      "Epoch 4/50\n",
      "573/573 [==============================] - 0s 80us/step - loss: 1.7514 - acc: 0.2548 - val_loss: 1.7461 - val_acc: 0.2531\n",
      "Epoch 5/50\n",
      "573/573 [==============================] - 0s 101us/step - loss: 1.7509 - acc: 0.2443 - val_loss: 1.7460 - val_acc: 0.2548\n",
      "Epoch 6/50\n",
      "573/573 [==============================] - 0s 79us/step - loss: 1.7504 - acc: 0.2478 - val_loss: 1.7460 - val_acc: 0.2565\n",
      "Epoch 7/50\n",
      "573/573 [==============================] - 0s 68us/step - loss: 1.7514 - acc: 0.2461 - val_loss: 1.7459 - val_acc: 0.2513\n",
      "Epoch 8/50\n",
      "573/573 [==============================] - 0s 75us/step - loss: 1.7504 - acc: 0.2531 - val_loss: 1.7457 - val_acc: 0.2478\n",
      "Epoch 9/50\n",
      "573/573 [==============================] - 0s 66us/step - loss: 1.7497 - acc: 0.2496 - val_loss: 1.7456 - val_acc: 0.2478\n",
      "Epoch 10/50\n",
      "573/573 [==============================] - 0s 67us/step - loss: 1.7504 - acc: 0.2496 - val_loss: 1.7457 - val_acc: 0.2583\n",
      "Epoch 11/50\n",
      "573/573 [==============================] - 0s 65us/step - loss: 1.7500 - acc: 0.2583 - val_loss: 1.7455 - val_acc: 0.2496\n",
      "Epoch 12/50\n",
      "573/573 [==============================] - 0s 75us/step - loss: 1.7483 - acc: 0.2548 - val_loss: 1.7462 - val_acc: 0.2583\n",
      "Epoch 13/50\n",
      "573/573 [==============================] - 0s 88us/step - loss: 1.7504 - acc: 0.2461 - val_loss: 1.7455 - val_acc: 0.2461\n",
      "Epoch 14/50\n",
      "573/573 [==============================] - 0s 80us/step - loss: 1.7503 - acc: 0.2426 - val_loss: 1.7454 - val_acc: 0.2548\n",
      "Epoch 15/50\n",
      "573/573 [==============================] - 0s 77us/step - loss: 1.7498 - acc: 0.2565 - val_loss: 1.7451 - val_acc: 0.2513\n",
      "Epoch 16/50\n",
      "573/573 [==============================] - 0s 77us/step - loss: 1.7499 - acc: 0.2478 - val_loss: 1.7450 - val_acc: 0.2478\n",
      "Epoch 17/50\n",
      "573/573 [==============================] - 0s 76us/step - loss: 1.7495 - acc: 0.2513 - val_loss: 1.7448 - val_acc: 0.2513\n",
      "Epoch 18/50\n",
      "573/573 [==============================] - 0s 81us/step - loss: 1.7497 - acc: 0.2443 - val_loss: 1.7447 - val_acc: 0.2496\n",
      "Epoch 19/50\n",
      "573/573 [==============================] - 0s 85us/step - loss: 1.7495 - acc: 0.2461 - val_loss: 1.7447 - val_acc: 0.2513\n",
      "Epoch 20/50\n",
      "573/573 [==============================] - 0s 75us/step - loss: 1.7494 - acc: 0.2443 - val_loss: 1.7448 - val_acc: 0.2531\n",
      "Epoch 21/50\n",
      "573/573 [==============================] - 0s 74us/step - loss: 1.7480 - acc: 0.2513 - val_loss: 1.7448 - val_acc: 0.2583\n",
      "Epoch 22/50\n",
      "573/573 [==============================] - 0s 74us/step - loss: 1.7498 - acc: 0.2443 - val_loss: 1.7445 - val_acc: 0.2461\n",
      "Epoch 23/50\n",
      "573/573 [==============================] - 0s 91us/step - loss: 1.7495 - acc: 0.2478 - val_loss: 1.7446 - val_acc: 0.2513\n",
      "Epoch 24/50\n",
      "573/573 [==============================] - 0s 78us/step - loss: 1.7487 - acc: 0.2426 - val_loss: 1.7448 - val_acc: 0.2513\n",
      "Epoch 25/50\n",
      "573/573 [==============================] - 0s 82us/step - loss: 1.7489 - acc: 0.2478 - val_loss: 1.7449 - val_acc: 0.2565\n",
      "Epoch 26/50\n",
      "573/573 [==============================] - 0s 81us/step - loss: 1.7494 - acc: 0.2531 - val_loss: 1.7444 - val_acc: 0.2583\n",
      "Epoch 27/50\n",
      "573/573 [==============================] - 0s 97us/step - loss: 1.7489 - acc: 0.2531 - val_loss: 1.7444 - val_acc: 0.2548\n",
      "Epoch 28/50\n",
      "573/573 [==============================] - 0s 103us/step - loss: 1.7486 - acc: 0.2513 - val_loss: 1.7440 - val_acc: 0.2513\n",
      "Epoch 29/50\n",
      "573/573 [==============================] - 0s 100us/step - loss: 1.7482 - acc: 0.2496 - val_loss: 1.7445 - val_acc: 0.2496\n",
      "Epoch 30/50\n",
      "573/573 [==============================] - 0s 96us/step - loss: 1.7494 - acc: 0.2443 - val_loss: 1.7440 - val_acc: 0.2478\n",
      "Epoch 31/50\n",
      "573/573 [==============================] - 0s 83us/step - loss: 1.7488 - acc: 0.2408 - val_loss: 1.7437 - val_acc: 0.2478\n",
      "Epoch 32/50\n",
      "573/573 [==============================] - 0s 78us/step - loss: 1.7487 - acc: 0.2426 - val_loss: 1.7438 - val_acc: 0.2513\n",
      "Epoch 33/50\n",
      "573/573 [==============================] - 0s 87us/step - loss: 1.7488 - acc: 0.2478 - val_loss: 1.7438 - val_acc: 0.2478\n",
      "Epoch 34/50\n",
      "573/573 [==============================] - 0s 118us/step - loss: 1.7478 - acc: 0.2513 - val_loss: 1.7438 - val_acc: 0.2461\n",
      "Epoch 35/50\n",
      "573/573 [==============================] - 0s 96us/step - loss: 1.7482 - acc: 0.2496 - val_loss: 1.7437 - val_acc: 0.2461\n",
      "Epoch 36/50\n",
      "573/573 [==============================] - 0s 76us/step - loss: 1.7476 - acc: 0.2513 - val_loss: 1.7437 - val_acc: 0.2461\n",
      "Epoch 37/50\n",
      "573/573 [==============================] - 0s 82us/step - loss: 1.7476 - acc: 0.2461 - val_loss: 1.7433 - val_acc: 0.2496\n",
      "Epoch 38/50\n",
      "573/573 [==============================] - 0s 77us/step - loss: 1.7487 - acc: 0.2426 - val_loss: 1.7432 - val_acc: 0.2513\n",
      "Epoch 39/50\n",
      "573/573 [==============================] - 0s 77us/step - loss: 1.7472 - acc: 0.2478 - val_loss: 1.7434 - val_acc: 0.2478\n",
      "Epoch 40/50\n",
      "573/573 [==============================] - 0s 76us/step - loss: 1.7482 - acc: 0.2408 - val_loss: 1.7434 - val_acc: 0.2478\n",
      "Epoch 41/50\n",
      "573/573 [==============================] - 0s 76us/step - loss: 1.7480 - acc: 0.2496 - val_loss: 1.7429 - val_acc: 0.2513\n",
      "Epoch 42/50\n",
      "573/573 [==============================] - 0s 72us/step - loss: 1.7471 - acc: 0.2356 - val_loss: 1.7428 - val_acc: 0.2548\n",
      "Epoch 43/50\n",
      "573/573 [==============================] - 0s 92us/step - loss: 1.7464 - acc: 0.2408 - val_loss: 1.7438 - val_acc: 0.2531\n",
      "Epoch 44/50\n",
      "573/573 [==============================] - 0s 115us/step - loss: 1.7475 - acc: 0.2565 - val_loss: 1.7425 - val_acc: 0.2496\n",
      "Epoch 45/50\n",
      "573/573 [==============================] - 0s 111us/step - loss: 1.7475 - acc: 0.2443 - val_loss: 1.7425 - val_acc: 0.2548\n",
      "Epoch 46/50\n",
      "573/573 [==============================] - 0s 102us/step - loss: 1.7469 - acc: 0.2461 - val_loss: 1.7424 - val_acc: 0.2513\n",
      "Epoch 47/50\n",
      "573/573 [==============================] - 0s 87us/step - loss: 1.7472 - acc: 0.2461 - val_loss: 1.7425 - val_acc: 0.2478\n",
      "Epoch 48/50\n",
      "573/573 [==============================] - 0s 86us/step - loss: 1.7469 - acc: 0.2426 - val_loss: 1.7424 - val_acc: 0.2496\n",
      "Epoch 49/50\n",
      "573/573 [==============================] - 0s 84us/step - loss: 1.7478 - acc: 0.2426 - val_loss: 1.7423 - val_acc: 0.2478\n",
      "Epoch 50/50\n",
      "573/573 [==============================] - 0s 91us/step - loss: 1.7467 - acc: 0.2408 - val_loss: 1.7426 - val_acc: 0.2531\n"
     ]
    },
    {
     "data": {
      "text/plain": [
       "<keras.callbacks.History at 0xb32ec7940>"
      ]
     },
     "execution_count": 12,
     "metadata": {},
     "output_type": "execute_result"
    }
   ],
   "source": [
    "model.fit(x_train, y_train,\n",
    "          epochs = epochs,\n",
    "          batch_size = batch_size,\n",
    "          validation_data = (x_train, y_train)\n",
    ")"
   ]
  },
  {
   "cell_type": "markdown",
   "metadata": {},
   "source": [
    "## 予測\n",
    "`weather`, `wind_speed`, `wave_height`の数値を学習済みNNに代入する\n",
    "\n",
    "出力される数値は左から1位~6位になる確率を返しいていると見なせる."
   ]
  },
  {
   "cell_type": "code",
   "execution_count": 27,
   "metadata": {},
   "outputs": [
    {
     "data": {
      "text/plain": [
       "array([[0.2348289 , 0.1430262 , 0.17341478, 0.12476081, 0.17003232,\n",
       "        0.153937  ]], dtype=float32)"
      ]
     },
     "execution_count": 27,
     "metadata": {},
     "output_type": "execute_result"
    }
   ],
   "source": [
    "# Input params\n",
    "weather = 0\n",
    "wind_speed = 1\n",
    "wave_height = 2\n",
    "\n",
    "# prediction\n",
    "input_data = np.array([[weather, wind_speed, wave_height]])\n",
    "model.predict(input_data)"
   ]
  },
  {
   "cell_type": "code",
   "execution_count": null,
   "metadata": {},
   "outputs": [],
   "source": []
  },
  {
   "cell_type": "code",
   "execution_count": null,
   "metadata": {},
   "outputs": [],
   "source": []
  }
 ],
 "metadata": {
  "kernelspec": {
   "display_name": "Python 3",
   "language": "python",
   "name": "python3"
  },
  "language_info": {
   "codemirror_mode": {
    "name": "ipython",
    "version": 3
   },
   "file_extension": ".py",
   "mimetype": "text/x-python",
   "name": "python",
   "nbconvert_exporter": "python",
   "pygments_lexer": "ipython3",
   "version": "3.6.6"
  }
 },
 "nbformat": 4,
 "nbformat_minor": 2
}
